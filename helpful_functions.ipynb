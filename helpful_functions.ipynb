{
 "cells": [
  {
   "cell_type": "code",
   "execution_count": null,
   "metadata": {},
   "outputs": [],
   "source": [
    "# Import all the necessary functions from python_scripts.py\n",
    "from python_scripts.rescrape_entire_survey import rescrape_entire_survey, get_survey_from_id\n",
    "from python_scripts.api_requests import get_surveys_from_api, get_sensors_dimension_from_api, get_survey_facts_from_api\n",
    "from python_scripts.refresh_partitions import refresh_glue_partitions\n",
    "from python_scripts.s3_utils import read_json_from_s3\n",
    "from python_scripts.transfer_to_s3 import surveys_to_s3, sensor_dimension_to_s3, survey_fact_to_s3\n",
    "from python_scripts.time_utils import scrape_date_in_surveydays, next_execution_is_in_future, get_survey_dates\n",
    "from python_scripts.transform_data import get_sensor_dimension_df, get_surveys_df\n",
    "\n",
    "import pandas as pd\n",
    "import pydbtools as pydb"
   ]
  },
  {
   "cell_type": "code",
   "execution_count": null,
   "metadata": {},
   "outputs": [],
   "source": [
    "# Get the surveys table from the api. Useful for identifying the survey_id for rescraping.\n",
    "get_surveys_df(get_surveys_from_api())"
   ]
  },
  {
   "cell_type": "code",
   "execution_count": null,
   "metadata": {},
   "outputs": [],
   "source": [
    "# If a survey has some data issue such as missing data, run this to scrape the whole survey again.\n",
    "rescrape_entire_survey(get_survey_from_id(437))"
   ]
  }
 ],
 "metadata": {
  "kernelspec": {
   "display_name": "Python 3",
   "language": "python",
   "name": "python3"
  },
  "language_info": {
   "codemirror_mode": {
    "name": "ipython",
    "version": 3
   },
   "file_extension": ".py",
   "mimetype": "text/x-python",
   "name": "python",
   "nbconvert_exporter": "python",
   "pygments_lexer": "ipython3",
   "version": "3.6.7"
  }
 },
 "nbformat": 4,
 "nbformat_minor": 2
}
